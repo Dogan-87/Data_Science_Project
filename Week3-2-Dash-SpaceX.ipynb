{
    "cells": [
        {
            "cell_type": "code",
            "execution_count": 11,
            "metadata": {
                "collapsed": true
            },
            "outputs": [
                {
                    "name": "stdout",
                    "output_type": "stream",
                    "text": "Collecting dash\n  Downloading dash-1.21.0.tar.gz (1.1 MB)\n\u001b[K     |\u2588\u2588\u2588\u2588\u2588\u2588\u2588\u2588\u2588\u2588\u2588\u2588\u2588\u2588\u2588\u2588\u2588\u2588\u2588\u2588\u2588\u2588\u2588\u2588\u2588\u2588\u2588\u2588\u2588\u2588\u2588\u2588| 1.1 MB 31.3 MB/s eta 0:00:01\n\u001b[?25hCollecting Flask>=1.0.4\n  Downloading Flask-2.0.1-py3-none-any.whl (94 kB)\n\u001b[K     |\u2588\u2588\u2588\u2588\u2588\u2588\u2588\u2588\u2588\u2588\u2588\u2588\u2588\u2588\u2588\u2588\u2588\u2588\u2588\u2588\u2588\u2588\u2588\u2588\u2588\u2588\u2588\u2588\u2588\u2588\u2588\u2588| 94 kB 11.4 MB/s eta 0:00:01\n\u001b[?25hCollecting flask-compress\n  Downloading Flask_Compress-1.10.1-py3-none-any.whl (7.9 kB)\nRequirement already satisfied: plotly in /opt/conda/envs/Python-3.8-main/lib/python3.8/site-packages (from dash) (4.14.3)\nCollecting dash-core-components==1.17.1\n  Downloading dash_core_components-1.17.1.tar.gz (3.7 MB)\n\u001b[K     |\u2588\u2588\u2588\u2588\u2588\u2588\u2588\u2588\u2588\u2588\u2588\u2588\u2588\u2588\u2588\u2588\u2588\u2588\u2588\u2588\u2588\u2588\u2588\u2588\u2588\u2588\u2588\u2588\u2588\u2588\u2588\u2588| 3.7 MB 65.3 MB/s eta 0:00:01\n\u001b[?25hCollecting dash-html-components==1.1.4\n  Downloading dash_html_components-1.1.4.tar.gz (83 kB)\n\u001b[K     |\u2588\u2588\u2588\u2588\u2588\u2588\u2588\u2588\u2588\u2588\u2588\u2588\u2588\u2588\u2588\u2588\u2588\u2588\u2588\u2588\u2588\u2588\u2588\u2588\u2588\u2588\u2588\u2588\u2588\u2588\u2588\u2588| 83 kB 6.8 MB/s  eta 0:00:01\n\u001b[?25hCollecting dash-table==4.12.0\n  Downloading dash_table-4.12.0.tar.gz (1.8 MB)\n\u001b[K     |\u2588\u2588\u2588\u2588\u2588\u2588\u2588\u2588\u2588\u2588\u2588\u2588\u2588\u2588\u2588\u2588\u2588\u2588\u2588\u2588\u2588\u2588\u2588\u2588\u2588\u2588\u2588\u2588\u2588\u2588\u2588\u2588| 1.8 MB 69.6 MB/s eta 0:00:01\n\u001b[?25hRequirement already satisfied: future in /opt/conda/envs/Python-3.8-main/lib/python3.8/site-packages (from dash) (0.18.2)\nCollecting itsdangerous>=2.0\n  Downloading itsdangerous-2.0.1-py3-none-any.whl (18 kB)\nRequirement already satisfied: Jinja2>=3.0 in /opt/conda/envs/Python-3.8-main/lib/python3.8/site-packages (from Flask>=1.0.4->dash) (3.0.0)\nCollecting Werkzeug>=2.0\n  Downloading Werkzeug-2.0.1-py3-none-any.whl (288 kB)\n\u001b[K     |\u2588\u2588\u2588\u2588\u2588\u2588\u2588\u2588\u2588\u2588\u2588\u2588\u2588\u2588\u2588\u2588\u2588\u2588\u2588\u2588\u2588\u2588\u2588\u2588\u2588\u2588\u2588\u2588\u2588\u2588\u2588\u2588| 288 kB 64.7 MB/s eta 0:00:01\n\u001b[?25hRequirement already satisfied: click>=7.1.2 in /opt/conda/envs/Python-3.8-main/lib/python3.8/site-packages (from Flask>=1.0.4->dash) (7.1.2)\nRequirement already satisfied: MarkupSafe>=2.0.0rc2 in /opt/conda/envs/Python-3.8-main/lib/python3.8/site-packages (from Jinja2>=3.0->Flask>=1.0.4->dash) (2.0.1)\nCollecting brotli\n  Downloading Brotli-1.0.9-cp38-cp38-manylinux1_x86_64.whl (357 kB)\n\u001b[K     |\u2588\u2588\u2588\u2588\u2588\u2588\u2588\u2588\u2588\u2588\u2588\u2588\u2588\u2588\u2588\u2588\u2588\u2588\u2588\u2588\u2588\u2588\u2588\u2588\u2588\u2588\u2588\u2588\u2588\u2588\u2588\u2588| 357 kB 66.4 MB/s eta 0:00:01\n\u001b[?25hRequirement already satisfied: six in /opt/conda/envs/Python-3.8-main/lib/python3.8/site-packages (from plotly->dash) (1.15.0)\nRequirement already satisfied: retrying>=1.3.3 in /opt/conda/envs/Python-3.8-main/lib/python3.8/site-packages (from plotly->dash) (1.3.3)\nBuilding wheels for collected packages: dash, dash-core-components, dash-html-components, dash-table\n  Building wheel for dash (setup.py) ... \u001b[?25ldone\n\u001b[?25h  Created wheel for dash: filename=dash-1.21.0-py3-none-any.whl size=1100478 sha256=a61fab4e60c1ead7823cd4f1b7a5a8915703cf86b785140d2262e8b0655c9b08\n  Stored in directory: /tmp/wsuser/.cache/pip/wheels/56/e4/21/8a1190a7c31f3aa3f8834b05126ded8bf105b8fd11fad1806e\n  Building wheel for dash-core-components (setup.py) ... \u001b[?25ldone\n\u001b[?25h  Created wheel for dash-core-components: filename=dash_core_components-1.17.1-py3-none-any.whl size=3738983 sha256=6009da8bced541a49e37578d921eb60541cfd4c4b20960f0e7422f9b7b506554\n  Stored in directory: /tmp/wsuser/.cache/pip/wheels/08/ae/6a/0f4a0ee8fa216ebf1f2e57277693a20d80e8a2cfe549f66d86\n  Building wheel for dash-html-components (setup.py) ... \u001b[?25ldone\n\u001b[?25h  Created wheel for dash-html-components: filename=dash_html_components-1.1.4-py3-none-any.whl size=319753 sha256=0a531ed20bbf9b5a4c6dedda2f4368aa816d81fef0ede40c1971819a33f55063\n  Stored in directory: /tmp/wsuser/.cache/pip/wheels/12/fe/5a/d0f2f657ee34cef5cc3fced1d8992994fac1ca6232a03c6c03\n  Building wheel for dash-table (setup.py) ... \u001b[?25ldone\n\u001b[?25h  Created wheel for dash-table: filename=dash_table-4.12.0-py3-none-any.whl size=1837667 sha256=d7d4c639767ec01196bc8c6a7217250b36bb0afc3a347dbd358efd816911f328\n  Stored in directory: /tmp/wsuser/.cache/pip/wheels/81/20/78/23b49f61328cc14ddb5542b7a232a23c80891a9115fcd159d6\nSuccessfully built dash dash-core-components dash-html-components dash-table\nInstalling collected packages: Werkzeug, itsdangerous, Flask, brotli, flask-compress, dash-table, dash-html-components, dash-core-components, dash\n  Attempting uninstall: Werkzeug\n    Found existing installation: Werkzeug 1.0.1\n    Uninstalling Werkzeug-1.0.1:\n      Successfully uninstalled Werkzeug-1.0.1\nSuccessfully installed Flask-2.0.1 Werkzeug-2.0.1 brotli-1.0.9 dash-1.21.0 dash-core-components-1.17.1 dash-html-components-1.1.4 dash-table-4.12.0 flask-compress-1.10.1 itsdangerous-2.0.1\n"
                }
            ],
            "source": "!pip3 install dash"
        },
        {
            "cell_type": "code",
            "execution_count": 12,
            "id": "f526a3d2-a8a9-4eff-a170-9528fe45acb5",
            "metadata": {},
            "outputs": [],
            "source": "import pandas as pd\nimport dash\nimport dash_html_components as html\nimport dash_core_components as dcc\nfrom dash.dependencies import Input, Output\nimport plotly.express as px"
        },
        {
            "cell_type": "code",
            "execution_count": 13,
            "id": "d73fdd69-7c9d-48a5-8fb5-970f73e7e5c0",
            "metadata": {},
            "outputs": [],
            "source": "spacex_launch = \"https://cf-courses-data.s3.us.cloud-object-storage.appdomain.cloud/IBM-DS0321EN-SkillsNetwork/datasets/spacex_launch_dash.csv\"\nspacex_df = pd.read_csv(spacex_launch)"
        },
        {
            "cell_type": "code",
            "execution_count": 14,
            "id": "b7a5ee88-6031-4197-9636-baa08b72ea89",
            "metadata": {},
            "outputs": [
                {
                    "data": {
                        "text/html": "<div>\n<style scoped>\n    .dataframe tbody tr th:only-of-type {\n        vertical-align: middle;\n    }\n\n    .dataframe tbody tr th {\n        vertical-align: top;\n    }\n\n    .dataframe thead th {\n        text-align: right;\n    }\n</style>\n<table border=\"1\" class=\"dataframe\">\n  <thead>\n    <tr style=\"text-align: right;\">\n      <th></th>\n      <th>Unnamed: 0</th>\n      <th>Flight Number</th>\n      <th>Launch Site</th>\n      <th>Mission Outcome</th>\n      <th>class</th>\n      <th>Payload Mass (kg)</th>\n      <th>Booster Version</th>\n      <th>Booster Version Category</th>\n    </tr>\n  </thead>\n  <tbody>\n    <tr>\n      <th>0</th>\n      <td>0</td>\n      <td>1</td>\n      <td>CCAFS LC-40</td>\n      <td>Success</td>\n      <td>0</td>\n      <td>0.0</td>\n      <td>F9 v1.0  B0003</td>\n      <td>v1.0</td>\n    </tr>\n    <tr>\n      <th>1</th>\n      <td>1</td>\n      <td>2</td>\n      <td>CCAFS LC-40</td>\n      <td>Success</td>\n      <td>0</td>\n      <td>0.0</td>\n      <td>F9 v1.0  B0004</td>\n      <td>v1.0</td>\n    </tr>\n    <tr>\n      <th>2</th>\n      <td>2</td>\n      <td>3</td>\n      <td>CCAFS LC-40</td>\n      <td>Success</td>\n      <td>0</td>\n      <td>525.0</td>\n      <td>F9 v1.0  B0005</td>\n      <td>v1.0</td>\n    </tr>\n    <tr>\n      <th>3</th>\n      <td>3</td>\n      <td>4</td>\n      <td>CCAFS LC-40</td>\n      <td>Success</td>\n      <td>0</td>\n      <td>500.0</td>\n      <td>F9 v1.0  B0006</td>\n      <td>v1.0</td>\n    </tr>\n    <tr>\n      <th>4</th>\n      <td>4</td>\n      <td>5</td>\n      <td>CCAFS LC-40</td>\n      <td>Success</td>\n      <td>0</td>\n      <td>677.0</td>\n      <td>F9 v1.0  B0007</td>\n      <td>v1.0</td>\n    </tr>\n  </tbody>\n</table>\n</div>",
                        "text/plain": "   Unnamed: 0  Flight Number  Launch Site Mission Outcome  class  \\\n0           0              1  CCAFS LC-40         Success      0   \n1           1              2  CCAFS LC-40         Success      0   \n2           2              3  CCAFS LC-40         Success      0   \n3           3              4  CCAFS LC-40         Success      0   \n4           4              5  CCAFS LC-40         Success      0   \n\n   Payload Mass (kg) Booster Version Booster Version Category  \n0                0.0  F9 v1.0  B0003                     v1.0  \n1                0.0  F9 v1.0  B0004                     v1.0  \n2              525.0  F9 v1.0  B0005                     v1.0  \n3              500.0  F9 v1.0  B0006                     v1.0  \n4              677.0  F9 v1.0  B0007                     v1.0  "
                    },
                    "execution_count": 14,
                    "metadata": {},
                    "output_type": "execute_result"
                }
            ],
            "source": "spacex_df.head()"
        },
        {
            "cell_type": "code",
            "execution_count": 15,
            "id": "f3655da3-e623-403c-b3ae-6ad9a6ee25cc",
            "metadata": {},
            "outputs": [
                {
                    "data": {
                        "text/html": "<div>\n<style scoped>\n    .dataframe tbody tr th:only-of-type {\n        vertical-align: middle;\n    }\n\n    .dataframe tbody tr th {\n        vertical-align: top;\n    }\n\n    .dataframe thead th {\n        text-align: right;\n    }\n</style>\n<table border=\"1\" class=\"dataframe\">\n  <thead>\n    <tr style=\"text-align: right;\">\n      <th></th>\n      <th>Launch Site</th>\n      <th>class</th>\n    </tr>\n  </thead>\n  <tbody>\n    <tr>\n      <th>0</th>\n      <td>CCAFS LC-40</td>\n      <td>26</td>\n    </tr>\n    <tr>\n      <th>1</th>\n      <td>CCAFS SLC-40</td>\n      <td>7</td>\n    </tr>\n    <tr>\n      <th>2</th>\n      <td>KSC LC-39A</td>\n      <td>13</td>\n    </tr>\n    <tr>\n      <th>3</th>\n      <td>VAFB SLC-4E</td>\n      <td>10</td>\n    </tr>\n  </tbody>\n</table>\n</div>",
                        "text/plain": "    Launch Site  class\n0   CCAFS LC-40     26\n1  CCAFS SLC-40      7\n2    KSC LC-39A     13\n3   VAFB SLC-4E     10"
                    },
                    "execution_count": 15,
                    "metadata": {},
                    "output_type": "execute_result"
                }
            ],
            "source": "all=spacex_df.groupby(['Launch Site'])['class'].count().reset_index()\nall"
        },
        {
            "cell_type": "code",
            "execution_count": 16,
            "id": "b689cce2-1452-431c-b680-7a7044952e4d",
            "metadata": {},
            "outputs": [
                {
                    "data": {
                        "text/plain": "['CCAFS LC-40', 'VAFB SLC-4E', 'KSC LC-39A', 'CCAFS SLC-40', 'ALL sites']"
                    },
                    "execution_count": 16,
                    "metadata": {},
                    "output_type": "execute_result"
                }
            ],
            "source": "a=list(spacex_df['Launch Site'].unique())\na.append('ALL sites')\na"
        },
        {
            "cell_type": "code",
            "execution_count": 17,
            "id": "4b893963-a2c8-4081-bc7a-e8e8b6d0d458",
            "metadata": {},
            "outputs": [
                {
                    "data": {
                        "text/plain": "{'ALL sites': 'OPT1',\n 'CCAFS LC-40': 'OPT2',\n 'VAFB SLC-4E': 'OPT3',\n 'KSC LC-39A': 'OPT4',\n 'CCAFS SLC-40': 'OPT5'}"
                    },
                    "execution_count": 17,
                    "metadata": {},
                    "output_type": "execute_result"
                }
            ],
            "source": "launch_site={a[4]:'OPT1', a[0]:'OPT2', a[1]:'OPT3', a[2]:'OPT4', a[3]:'OPT5'}\nlaunch_site"
        },
        {
            "cell_type": "code",
            "execution_count": 18,
            "id": "2b6f15a2-0ec9-4dca-a6af-94efad4d4b18",
            "metadata": {},
            "outputs": [],
            "source": "max_payload = spacex_df['Payload Mass (kg)'].max()\nmin_payload = spacex_df['Payload Mass (kg)'].min()"
        },
        {
            "cell_type": "code",
            "execution_count": 19,
            "id": "2c4ecf8d-a521-4328-b6ba-49c58312c919",
            "metadata": {},
            "outputs": [],
            "source": "# Create a dash application\napp = dash.Dash(__name__)"
        },
        {
            "cell_type": "code",
            "execution_count": null,
            "id": "47cb3b42-89df-4482-9335-a6e09107bfdc",
            "metadata": {},
            "outputs": [
                {
                    "name": "stdout",
                    "output_type": "stream",
                    "text": "Dash is running on http://127.0.0.1:8050/\n\n * Serving Flask app '__main__' (lazy loading)\n * Environment: production\n\u001b[31m   WARNING: This is a development server. Do not use it in a production deployment.\u001b[0m\n\u001b[2m   Use a production WSGI server instead.\u001b[0m\n * Debug mode: off\n"
                },
                {
                    "name": "stderr",
                    "output_type": "stream",
                    "text": " * Running on http://127.0.0.1:8050/ (Press CTRL+C to quit)\n"
                }
            ],
            "source": "# Create an app layout\napp.layout = html.Div(children=[html.H1('SpaceX Launch Records Dashboard',\n                                        style={'textAlign': 'center', 'color': '#503D36',\n                                               'font-size': 40}),\n                                html.Div([\n                                    html.Div(\n                                        [\n                                        html.H2('Launch Site:', style={'margin-right': '2em'}),\n                                        ]\n                                    ),\n                                        dcc.Dropdown(id='site-dropdown', options=[{'label': k, 'value': v} for k,v in launch_site.items()],\n                                        value='OPT1',\n                                        placeholder='Select a launch site',\n                                        searchable = True,\n                                        style={'width': '80%', 'padding': '3px', 'textAlign': 'center','font-size': 20}),\n                                    ], style={'display': 'flex'}),\n                                # TASK 1: Add a dropdown list to enable Launch Site selection\n                                # The default select value is for ALL sites\n                                # dcc.Dropdown(id='site-dropdown',...)\n                                \n\n                                # TASK 2: Add a pie chart to show the total successful launches count for all sites\n                                # If a specific launch site was selected, show the Success vs. Failed counts for the site\n                                html.Div(dcc.Graph(id='success-pie-chart')),\n                                html.Br(),\n\n                                html.P(\"Payload range (Kg):\"),\n                                    dcc.RangeSlider(id='payload-slider', min=0, max=10000, step=1000,\n                                        value=[spacex_df['Payload Mass (kg)'].min(),spacex_df['Payload Mass (kg)'].max()],\n                                        marks={i*1000: '{}'.format(1000 * i) for i in range(11)}),\n                                # TASK 3: Add a slider to select payload range\n                                #dcc.RangeSlider(id='payload-slider',...)\n\n                                # TASK 4: Add a scatter chart to show the correlation between payload and launch success\n                                html.Div(dcc.Graph(id='success-payload-scatter-chart')),\n                                ])\n\n# TASK 2:\n# Add a callback function for `site-dropdown` as input, `success-pie-chart` as output\n@app.callback(Output(component_id='success-pie-chart', component_property='figure'),\n              Input(component_id='site-dropdown', component_property='value'))\n# Add computation to callback function and return graph\ndef get_graph(site):\n    if site=='OPT1':\n        all_pie=spacex_df.groupby(['Launch Site'])['class'].count().reset_index()\n        fig = px.pie(all, values='class', names='Launch Site', title='Launch Sites with shares of launches')\n    else:\n        for k, v in launch_site.items():\n            if v == site:\n                ilk=spacex_df[spacex_df['Launch Site']==k]\n                iki=ilk.groupby(['class'])['Launch Site'].count().reset_index()\n                fig = px.pie(iki, values='Launch Site', names='class', title='Success Rate of Launch Site ')\n    return fig\n\n# TASK 4:\n# Add a callback function for `site-dropdown` and `payload-slider` as inputs, `success-payload-scatter-chart` as output\n@app.callback(Output(component_id='success-payload-scatter-chart', component_property='figure'),\n              [Input(component_id='site-dropdown', component_property='value'),\n               Input(component_id='payload-slider', component_property='value')])\n               \ndef get_scatter(site, payload):\n    if site=='OPT1':\n        spacex_df_payload=spacex_df[(spacex_df['Payload Mass (kg)']>=payload[0]) & (spacex_df['Payload Mass (kg)']<=payload[1])]\n        fig = px.scatter(spacex_df_payload, x=\"Payload Mass (kg)\", y=\"class\", color=\"Booster Version Category\")\n    else:\n        for k, v in launch_site.items():\n            if v == site:\n                spacex_df_payload=spacex_df[(spacex_df['Launch Site']==k)& (spacex_df['Payload Mass (kg)']>=payload[0]) & (spacex_df['Payload Mass (kg)']<=payload[1])]\n                fig = px.scatter(spacex_df_payload, x=\"Payload Mass (kg)\", y=\"class\", color=\"Booster Version Category\")\n    return fig\n\n# Run the app\nif __name__ == '__main__':\n    app.run_server()"
        }
    ],
    "metadata": {
        "kernelspec": {
            "display_name": "Python 3.8",
            "language": "python",
            "name": "python3"
        },
        "language_info": {
            "codemirror_mode": {
                "name": "ipython",
                "version": 3
            },
            "file_extension": ".py",
            "mimetype": "text/x-python",
            "name": "python",
            "nbconvert_exporter": "python",
            "pygments_lexer": "ipython3",
            "version": "3.8.10"
        }
    },
    "nbformat": 4,
    "nbformat_minor": 5
}