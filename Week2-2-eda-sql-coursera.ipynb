{
    "cells": [
        {
            "cell_type": "markdown",
            "metadata": {},
            "source": "<center>\n    <img src=\"https://gitlab.com/ibm/skills-network/courses/placeholder101/-/raw/master/labs/module%201/images/IDSNlogo.png\"  width=\"300\" alt=\"cognitiveclass.ai logo\"  />\n</center>\n\n<h1 align=center><font size = 5>Assignment: SQL Notebook for Peer Assignment</font></h1>\n\nEstimated time needed: **60** minutes.\n\n## Introduction\n\nUsing this Python notebook you will:\n\n1.  Understand the Spacex DataSet\n2.  Load the dataset  into the corresponding table in a Db2 database\n3.  Execute SQL queries to answer assignment questions\n"
        },
        {
            "cell_type": "markdown",
            "metadata": {},
            "source": "## Overview of the DataSet\n\nSpaceX has gained worldwide attention for a series of historic milestones.\n\nIt is the only private company ever to return a spacecraft from low-earth orbit, which it first accomplished in December 2010.\nSpaceX advertises Falcon 9 rocket launches on its website with a cost of 62 million dollars wheras other providers cost upward of 165 million dollars each, much of the savings is because Space X can reuse the first stage.\n\nTherefore if we can determine if the first stage will land, we can determine the cost of a launch.\n\nThis information can be used if an alternate company wants to bid against SpaceX for a rocket launch.\n\nThis dataset includes a record for each payload carried during a SpaceX mission into outer space.\n"
        },
        {
            "cell_type": "markdown",
            "metadata": {},
            "source": "### Download the datasets\n\nThis assignment requires you to load the spacex dataset.\n\nIn many cases the dataset to be analyzed is available as a .CSV (comma separated values) file, perhaps on the internet. Click on the link below to download and save the dataset (.CSV file):\n\n<a href=\"https://cf-courses-data.s3.us.cloud-object-storage.appdomain.cloud/IBM-DS0321EN-SkillsNetwork/labs/module_2/data/Spacex.csv?utm_medium=Exinfluencer&utm_source=Exinfluencer&utm_content=000026UJ&utm_term=10006555&utm_id=NA-SkillsNetwork-Channel-SkillsNetworkCoursesIBMDS0321ENSkillsNetwork26802033-2021-01-01\" target=\"_blank\">Spacex DataSet</a>\n"
        },
        {
            "cell_type": "markdown",
            "metadata": {},
            "source": "### Store the dataset in database table\n\n**it is highly recommended to manually load the table using the database console LOAD tool in DB2**.\n\n<img src = \"https://cf-courses-data.s3.us.cloud-object-storage.appdomain.cloud/IBM-DS0321EN-SkillsNetwork/labs/module_2/images/spacexload.png\">\n\nNow open the Db2 console, open the LOAD tool, Select / Drag the .CSV file for the  dataset, Next create a New Table, and then follow the steps on-screen instructions to load the data. Name the new table as follows:\n\n**SPACEXDATASET**\n\n**Follow these steps while using old DB2 UI which is having Open Console Screen**\n\n**Note:While loading Spacex dataset, ensure that detect datatypes is disabled. Later click on the pencil icon(edit option).**\n\n1.  Change the Date Format by manually typing DD-MM-YYYY and timestamp format as DD-MM-YYYY HH\\:MM:SS\n\n2.  Change the PAYLOAD_MASS\\_\\_KG\\_  datatype  to INTEGER.\n\n<img src = \"https://cf-courses-data.s3.us.cloud-object-storage.appdomain.cloud/IBM-DS0321EN-SkillsNetwork/labs/module_2/images/spacexload2.png\">\n"
        },
        {
            "cell_type": "markdown",
            "metadata": {},
            "source": "**Changes to be considered when having DB2 instance with the new UI having Go to UI screen**\n\n*   Refer to this insruction in this <a href=\"https://cf-courses-data.s3.us.cloud-object-storage.appdomain.cloud/IBMDeveloperSkillsNetwork-DB0201EN-SkillsNetwork/labs/Labs_Coursera_V5/labs/Lab%20-%20Sign%20up%20for%20IBM%20Cloud%20-%20Create%20Db2%20service%20instance%20-%20Get%20started%20with%20the%20Db2%20console/instructional-labs.md.html?utm_medium=Exinfluencer&utm_source=Exinfluencer&utm_content=000026UJ&utm_term=10006555&utm_id=NA-SkillsNetwork-Channel-SkillsNetworkCoursesIBMDS0321ENSkillsNetwork26802033-2021-01-01\">link</a> for viewing  the new  Go to UI screen.\n\n*   Later click on **Data link(below SQL)**  in the Go to UI screen  and click on **Load Data** tab.\n\n*   Later browse for the downloaded spacex file.\n\n<img src=\"https://cf-courses-data.s3.us.cloud-object-storage.appdomain.cloud/IBM-DS0321EN-SkillsNetwork/labs/module_2/images/browsefile.png\" width=\"800\"/>\n\n*   Once done select the schema andload the file.\n\n <img src=\"https://cf-courses-data.s3.us.cloud-object-storage.appdomain.cloud/IBM-DS0321EN-SkillsNetwork/labs/module_2/images/spacexload3.png\" width=\"800\"/>\n"
        },
        {
            "cell_type": "code",
            "execution_count": 2,
            "metadata": {
                "collapsed": true
            },
            "outputs": [
                {
                    "name": "stdout",
                    "output_type": "stream",
                    "text": "Collecting sqlalchemy==1.3.9\n  Downloading SQLAlchemy-1.3.9.tar.gz (6.0 MB)\n\u001b[K     |\u2588\u2588\u2588\u2588\u2588\u2588\u2588\u2588\u2588\u2588\u2588\u2588\u2588\u2588\u2588\u2588\u2588\u2588\u2588\u2588\u2588\u2588\u2588\u2588\u2588\u2588\u2588\u2588\u2588\u2588\u2588\u2588| 6.0 MB 12.5 MB/s eta 0:00:01\n\u001b[?25hBuilding wheels for collected packages: sqlalchemy\n  Building wheel for sqlalchemy (setup.py) ... \u001b[?25ldone\n\u001b[?25h  Created wheel for sqlalchemy: filename=SQLAlchemy-1.3.9-cp38-cp38-linux_x86_64.whl size=1209503 sha256=e5cb23129eb3683d5fc8720f92a00a2c18cc5d0c062cb87b87994038d16c8c68\n  Stored in directory: /tmp/wsuser/.cache/pip/wheels/cb/43/46/fa638f2422554332b7865d600275b24568bf60e76104a94bb4\nSuccessfully built sqlalchemy\nInstalling collected packages: sqlalchemy\n  Attempting uninstall: sqlalchemy\n    Found existing installation: SQLAlchemy 1.3.23\n    Uninstalling SQLAlchemy-1.3.23:\n      Successfully uninstalled SQLAlchemy-1.3.23\nSuccessfully installed sqlalchemy-1.3.9\nRequirement already satisfied: ibm_db_sa in /opt/conda/envs/Python-3.8-main/lib/python3.8/site-packages (0.3.6)\nRequirement already satisfied: ibm-db>=2.0.0 in /opt/conda/envs/Python-3.8-main/lib/python3.8/site-packages (from ibm_db_sa) (3.0.4)\nRequirement already satisfied: sqlalchemy>=0.7.3 in /opt/conda/envs/Python-3.8-main/lib/python3.8/site-packages (from ibm_db_sa) (1.3.9)\n"
                }
            ],
            "source": "!pip install sqlalchemy==1.3.9\n!pip install ibm_db_sa"
        },
        {
            "cell_type": "markdown",
            "metadata": {},
            "source": "### Connect to the database\n\nLet us first load the SQL extension and establish a connection with the database\n"
        },
        {
            "cell_type": "code",
            "execution_count": 3,
            "metadata": {
                "scrolled": true
            },
            "outputs": [
                {
                    "name": "stdout",
                    "output_type": "stream",
                    "text": "Collecting ipython-sql\n  Downloading ipython_sql-0.4.0-py3-none-any.whl (19 kB)\nRequirement already satisfied: ipython-genutils>=0.1.0 in /opt/conda/envs/Python-3.8-main/lib/python3.8/site-packages (from ipython-sql) (0.2.0)\nRequirement already satisfied: sqlalchemy>=0.6.7 in /opt/conda/envs/Python-3.8-main/lib/python3.8/site-packages (from ipython-sql) (1.3.9)\nCollecting prettytable<1\n  Downloading prettytable-0.7.2.zip (28 kB)\nCollecting sqlparse\n  Downloading sqlparse-0.4.1-py3-none-any.whl (42 kB)\n\u001b[K     |\u2588\u2588\u2588\u2588\u2588\u2588\u2588\u2588\u2588\u2588\u2588\u2588\u2588\u2588\u2588\u2588\u2588\u2588\u2588\u2588\u2588\u2588\u2588\u2588\u2588\u2588\u2588\u2588\u2588\u2588\u2588\u2588| 42 kB 3.3 MB/s  eta 0:00:01\n\u001b[?25hRequirement already satisfied: six in /opt/conda/envs/Python-3.8-main/lib/python3.8/site-packages (from ipython-sql) (1.15.0)\nRequirement already satisfied: ipython>=1.0 in /opt/conda/envs/Python-3.8-main/lib/python3.8/site-packages (from ipython-sql) (7.22.0)\nRequirement already satisfied: pygments in /opt/conda/envs/Python-3.8-main/lib/python3.8/site-packages (from ipython>=1.0->ipython-sql) (2.9.0)\nRequirement already satisfied: pexpect>4.3 in /opt/conda/envs/Python-3.8-main/lib/python3.8/site-packages (from ipython>=1.0->ipython-sql) (4.8.0)\nRequirement already satisfied: backcall in /opt/conda/envs/Python-3.8-main/lib/python3.8/site-packages (from ipython>=1.0->ipython-sql) (0.2.0)\nRequirement already satisfied: prompt-toolkit!=3.0.0,!=3.0.1,<3.1.0,>=2.0.0 in /opt/conda/envs/Python-3.8-main/lib/python3.8/site-packages (from ipython>=1.0->ipython-sql) (3.0.17)\nRequirement already satisfied: pickleshare in /opt/conda/envs/Python-3.8-main/lib/python3.8/site-packages (from ipython>=1.0->ipython-sql) (0.7.5)\nRequirement already satisfied: decorator in /opt/conda/envs/Python-3.8-main/lib/python3.8/site-packages (from ipython>=1.0->ipython-sql) (5.0.9)\nRequirement already satisfied: setuptools>=18.5 in /opt/conda/envs/Python-3.8-main/lib/python3.8/site-packages (from ipython>=1.0->ipython-sql) (52.0.0.post20210125)\nRequirement already satisfied: traitlets>=4.2 in /opt/conda/envs/Python-3.8-main/lib/python3.8/site-packages (from ipython>=1.0->ipython-sql) (5.0.5)\nRequirement already satisfied: jedi>=0.16 in /opt/conda/envs/Python-3.8-main/lib/python3.8/site-packages (from ipython>=1.0->ipython-sql) (0.17.2)\nRequirement already satisfied: parso<0.8.0,>=0.7.0 in /opt/conda/envs/Python-3.8-main/lib/python3.8/site-packages (from jedi>=0.16->ipython>=1.0->ipython-sql) (0.7.0)\nRequirement already satisfied: ptyprocess>=0.5 in /opt/conda/envs/Python-3.8-main/lib/python3.8/site-packages (from pexpect>4.3->ipython>=1.0->ipython-sql) (0.7.0)\nRequirement already satisfied: wcwidth in /opt/conda/envs/Python-3.8-main/lib/python3.8/site-packages (from prompt-toolkit!=3.0.0,!=3.0.1,<3.1.0,>=2.0.0->ipython>=1.0->ipython-sql) (0.2.5)\nBuilding wheels for collected packages: prettytable\n  Building wheel for prettytable (setup.py) ... \u001b[?25ldone\n\u001b[?25h  Created wheel for prettytable: filename=prettytable-0.7.2-py3-none-any.whl size=13700 sha256=67b593f9c15b58201de5ef08914a9af8bdba924397c93d9c0a633865d24616c7\n  Stored in directory: /tmp/wsuser/.cache/pip/wheels/48/6d/77/9517cb933af254f51a446f1a5ec9c2be3e45f17384940bce68\nSuccessfully built prettytable\nInstalling collected packages: sqlparse, prettytable, ipython-sql\nSuccessfully installed ipython-sql-0.4.0 prettytable-0.7.2 sqlparse-0.4.1\n"
                }
            ],
            "source": "!pip install ipython-sql"
        },
        {
            "cell_type": "code",
            "execution_count": 4,
            "metadata": {},
            "outputs": [],
            "source": "%load_ext sql"
        },
        {
            "cell_type": "markdown",
            "metadata": {},
            "source": "**DB2 magic in case of old UI service credentials.**\n\nIn the next cell enter your db2 connection string. Recall you created Service Credentials for your Db2 instance before. From the **uri** field of your Db2 service credentials copy everything after db2:// (except the double quote at the end) and paste it in the cell below after ibm_db_sa://\n\n<img src =\"https://cf-courses-data.s3.us.cloud-object-storage.appdomain.cloud/IBMDeveloperSkillsNetwork-DB0201EN-SkillsNetwork/labs/FinalModule_edX/images/URI.jpg\">\n\nin the following format\n\n**%sql ibm_db_sa://my-username:my-password@my-hostname:my-port/my-db-name**\n\n**DB2 magic in case of new UI service credentials.**\n\n<img src =\"https://cf-courses-data.s3.us.cloud-object-storage.appdomain.cloud/IBM-DS0321EN-SkillsNetwork/labs/module_2/images/servicecredentials.png\" width=600>  \n\n*   Use the following format.\n\n*   Add security=SSL at the end\n\n**%sql ibm_db_sa://my-username:my-password@my-hostname:my-port/my-db-name?security=SSL**\n"
        },
        {
            "cell_type": "code",
            "execution_count": 5,
            "metadata": {},
            "outputs": [],
            "source": "#!pip install jupyter_contrib_nbextensions"
        },
        {
            "cell_type": "code",
            "execution_count": 30,
            "metadata": {
                "tags": []
            },
            "outputs": [
                {
                    "name": "stdout",
                    "output_type": "stream",
                    "text": "succesfully connected to database\n"
                }
            ],
            "source": "#\"%sql ibm_db_sa://\n#This cell contains my watson studio credentials\nprint('succesfully connected to database')"
        },
        {
            "cell_type": "code",
            "execution_count": 12,
            "metadata": {
                "tags": []
            },
            "outputs": [
                {
                    "name": "stdout",
                    "output_type": "stream",
                    "text": " * ibm_db_sa://qvp11174:***@0c77d6f2-5da9-48a9-81f8-86b520b87518.bs2io90l08kqb1od8lcg.databases.appdomain.cloud:31198/bludb\nDone.\n"
                },
                {
                    "data": {
                        "text/html": "<table>\n    <tr>\n        <th>tabschema</th>\n        <th>tabname</th>\n        <th>create_time</th>\n    </tr>\n    <tr>\n        <td>QVP11174</td>\n        <td>CHICAGO_CRIME_DATA</td>\n        <td>2021-07-08 19:22:44.262037</td>\n    </tr>\n    <tr>\n        <td>QVP11174</td>\n        <td>PETRESCUE</td>\n        <td>2021-07-07 17:09:05.920864</td>\n    </tr>\n    <tr>\n        <td>QVP11174</td>\n        <td>PETSALE</td>\n        <td>2021-07-07 13:05:09.605904</td>\n    </tr>\n    <tr>\n        <td>QVP11174</td>\n        <td>EMPLOYEES</td>\n        <td>2021-07-07 13:42:16.138362</td>\n    </tr>\n    <tr>\n        <td>QVP11174</td>\n        <td>JOB_HISTORY</td>\n        <td>2021-07-07 13:42:16.315362</td>\n    </tr>\n    <tr>\n        <td>QVP11174</td>\n        <td>JOBS</td>\n        <td>2021-07-07 13:42:16.494847</td>\n    </tr>\n    <tr>\n        <td>QVP11174</td>\n        <td>DEPARTMENTS</td>\n        <td>2021-07-07 13:42:16.667546</td>\n    </tr>\n    <tr>\n        <td>QVP11174</td>\n        <td>LOCATIONS</td>\n        <td>2021-07-07 13:42:16.843341</td>\n    </tr>\n    <tr>\n        <td>QVP11174</td>\n        <td>CENSUS_DATA</td>\n        <td>2021-07-08 18:20:11.617154</td>\n    </tr>\n    <tr>\n        <td>QVP11174</td>\n        <td>CHICAGO_PUBLIC_SCHOOLS</td>\n        <td>2021-07-08 18:39:31.714321</td>\n    </tr>\n    <tr>\n        <td>QVP11174</td>\n        <td>INSTRUCTOR</td>\n        <td>2021-07-08 11:34:06.455518</td>\n    </tr>\n    <tr>\n        <td>QVP11174</td>\n        <td>INTERNATIONAL_STUDENT_TEST_SCORES</td>\n        <td>2021-07-08 12:14:35.560770</td>\n    </tr>\n    <tr>\n        <td>QVP11174</td>\n        <td>SCHOOLS</td>\n        <td>2021-07-08 15:31:33.314955</td>\n    </tr>\n    <tr>\n        <td>QVP11174</td>\n        <td>CHICAGO_SOCIOECONOMIC_DATA</td>\n        <td>2021-07-08 14:42:17.968283</td>\n    </tr>\n    <tr>\n        <td>QVP11174</td>\n        <td>SCHOOL_VIEW</td>\n        <td>2021-07-10 13:30:38.813970</td>\n    </tr>\n    <tr>\n        <td>QVP11174</td>\n        <td>SPACEXTBL</td>\n        <td>2021-08-08 13:39:49.516766</td>\n    </tr>\n</table>",
                        "text/plain": "[('QVP11174', 'CHICAGO_CRIME_DATA', datetime.datetime(2021, 7, 8, 19, 22, 44, 262037)),\n ('QVP11174', 'PETRESCUE', datetime.datetime(2021, 7, 7, 17, 9, 5, 920864)),\n ('QVP11174', 'PETSALE', datetime.datetime(2021, 7, 7, 13, 5, 9, 605904)),\n ('QVP11174', 'EMPLOYEES', datetime.datetime(2021, 7, 7, 13, 42, 16, 138362)),\n ('QVP11174', 'JOB_HISTORY', datetime.datetime(2021, 7, 7, 13, 42, 16, 315362)),\n ('QVP11174', 'JOBS', datetime.datetime(2021, 7, 7, 13, 42, 16, 494847)),\n ('QVP11174', 'DEPARTMENTS', datetime.datetime(2021, 7, 7, 13, 42, 16, 667546)),\n ('QVP11174', 'LOCATIONS', datetime.datetime(2021, 7, 7, 13, 42, 16, 843341)),\n ('QVP11174', 'CENSUS_DATA', datetime.datetime(2021, 7, 8, 18, 20, 11, 617154)),\n ('QVP11174', 'CHICAGO_PUBLIC_SCHOOLS', datetime.datetime(2021, 7, 8, 18, 39, 31, 714321)),\n ('QVP11174', 'INSTRUCTOR', datetime.datetime(2021, 7, 8, 11, 34, 6, 455518)),\n ('QVP11174', 'INTERNATIONAL_STUDENT_TEST_SCORES', datetime.datetime(2021, 7, 8, 12, 14, 35, 560770)),\n ('QVP11174', 'SCHOOLS', datetime.datetime(2021, 7, 8, 15, 31, 33, 314955)),\n ('QVP11174', 'CHICAGO_SOCIOECONOMIC_DATA', datetime.datetime(2021, 7, 8, 14, 42, 17, 968283)),\n ('QVP11174', 'SCHOOL_VIEW', datetime.datetime(2021, 7, 10, 13, 30, 38, 813970)),\n ('QVP11174', 'SPACEXTBL', datetime.datetime(2021, 8, 8, 13, 39, 49, 516766))]"
                    },
                    "execution_count": 12,
                    "metadata": {},
                    "output_type": "execute_result"
                }
            ],
            "source": "%sql select TABSCHEMA, TABNAME, CREATE_TIME from SYSCAT.TABLES where TABSCHEMA='QVP11174'"
        },
        {
            "cell_type": "code",
            "execution_count": 13,
            "metadata": {},
            "outputs": [
                {
                    "name": "stdout",
                    "output_type": "stream",
                    "text": " * ibm_db_sa://qvp11174:***@0c77d6f2-5da9-48a9-81f8-86b520b87518.bs2io90l08kqb1od8lcg.databases.appdomain.cloud:31198/bludb\nDone.\n"
                },
                {
                    "data": {
                        "text/html": "<table>\n    <tr>\n        <th>DATE</th>\n        <th>time__utc_</th>\n        <th>booster_version</th>\n        <th>launch_site</th>\n        <th>payload</th>\n        <th>payload_mass__kg_</th>\n        <th>orbit</th>\n        <th>customer</th>\n        <th>mission_outcome</th>\n        <th>landing__outcome</th>\n    </tr>\n    <tr>\n        <td>2010-06-04</td>\n        <td>18:45:00</td>\n        <td>F9 v1.0  B0003</td>\n        <td>CCAFS LC-40</td>\n        <td>Dragon Spacecraft Qualification Unit</td>\n        <td>0</td>\n        <td>LEO</td>\n        <td>SpaceX</td>\n        <td>Success</td>\n        <td>Failure (parachute)</td>\n    </tr>\n    <tr>\n        <td>2010-12-08</td>\n        <td>15:43:00</td>\n        <td>F9 v1.0  B0004</td>\n        <td>CCAFS LC-40</td>\n        <td>Dragon demo flight C1, two CubeSats, barrel of Brouere cheese</td>\n        <td>0</td>\n        <td>LEO (ISS)</td>\n        <td>NASA (COTS) NRO</td>\n        <td>Success</td>\n        <td>Failure (parachute)</td>\n    </tr>\n    <tr>\n        <td>2012-05-22</td>\n        <td>07:44:00</td>\n        <td>F9 v1.0  B0005</td>\n        <td>CCAFS LC-40</td>\n        <td>Dragon demo flight C2</td>\n        <td>525</td>\n        <td>LEO (ISS)</td>\n        <td>NASA (COTS)</td>\n        <td>Success</td>\n        <td>No attempt</td>\n    </tr>\n    <tr>\n        <td>2012-10-08</td>\n        <td>00:35:00</td>\n        <td>F9 v1.0  B0006</td>\n        <td>CCAFS LC-40</td>\n        <td>SpaceX CRS-1</td>\n        <td>500</td>\n        <td>LEO (ISS)</td>\n        <td>NASA (CRS)</td>\n        <td>Success</td>\n        <td>No attempt</td>\n    </tr>\n    <tr>\n        <td>2013-03-01</td>\n        <td>15:10:00</td>\n        <td>F9 v1.0  B0007</td>\n        <td>CCAFS LC-40</td>\n        <td>SpaceX CRS-2</td>\n        <td>677</td>\n        <td>LEO (ISS)</td>\n        <td>NASA (CRS)</td>\n        <td>Success</td>\n        <td>No attempt</td>\n    </tr>\n    <tr>\n        <td>2013-09-29</td>\n        <td>16:00:00</td>\n        <td>F9 v1.1  B1003</td>\n        <td>VAFB SLC-4E</td>\n        <td>CASSIOPE</td>\n        <td>500</td>\n        <td>Polar LEO</td>\n        <td>MDA</td>\n        <td>Success</td>\n        <td>Uncontrolled (ocean)</td>\n    </tr>\n    <tr>\n        <td>2013-12-03</td>\n        <td>22:41:00</td>\n        <td>F9 v1.1</td>\n        <td>CCAFS LC-40</td>\n        <td>SES-8</td>\n        <td>3170</td>\n        <td>GTO</td>\n        <td>SES</td>\n        <td>Success</td>\n        <td>No attempt</td>\n    </tr>\n    <tr>\n        <td>2014-01-06</td>\n        <td>22:06:00</td>\n        <td>F9 v1.1</td>\n        <td>CCAFS LC-40</td>\n        <td>Thaicom 6</td>\n        <td>3325</td>\n        <td>GTO</td>\n        <td>Thaicom</td>\n        <td>Success</td>\n        <td>No attempt</td>\n    </tr>\n    <tr>\n        <td>2014-04-18</td>\n        <td>19:25:00</td>\n        <td>F9 v1.1</td>\n        <td>CCAFS LC-40</td>\n        <td>SpaceX CRS-3</td>\n        <td>2296</td>\n        <td>LEO (ISS)</td>\n        <td>NASA (CRS)</td>\n        <td>Success</td>\n        <td>Controlled (ocean)</td>\n    </tr>\n    <tr>\n        <td>2014-07-14</td>\n        <td>15:15:00</td>\n        <td>F9 v1.1</td>\n        <td>CCAFS LC-40</td>\n        <td>OG2 Mission 1  6 Orbcomm-OG2 satellites</td>\n        <td>1316</td>\n        <td>LEO</td>\n        <td>Orbcomm</td>\n        <td>Success</td>\n        <td>Controlled (ocean)</td>\n    </tr>\n</table>",
                        "text/plain": "[(datetime.date(2010, 6, 4), datetime.time(18, 45), 'F9 v1.0  B0003', 'CCAFS LC-40', 'Dragon Spacecraft Qualification Unit', 0, 'LEO', 'SpaceX', 'Success', 'Failure (parachute)'),\n (datetime.date(2010, 12, 8), datetime.time(15, 43), 'F9 v1.0  B0004', 'CCAFS LC-40', 'Dragon demo flight C1, two CubeSats, barrel of Brouere cheese', 0, 'LEO (ISS)', 'NASA (COTS) NRO', 'Success', 'Failure (parachute)'),\n (datetime.date(2012, 5, 22), datetime.time(7, 44), 'F9 v1.0  B0005', 'CCAFS LC-40', 'Dragon demo flight C2', 525, 'LEO (ISS)', 'NASA (COTS)', 'Success', 'No attempt'),\n (datetime.date(2012, 10, 8), datetime.time(0, 35), 'F9 v1.0  B0006', 'CCAFS LC-40', 'SpaceX CRS-1', 500, 'LEO (ISS)', 'NASA (CRS)', 'Success', 'No attempt'),\n (datetime.date(2013, 3, 1), datetime.time(15, 10), 'F9 v1.0  B0007', 'CCAFS LC-40', 'SpaceX CRS-2', 677, 'LEO (ISS)', 'NASA (CRS)', 'Success', 'No attempt'),\n (datetime.date(2013, 9, 29), datetime.time(16, 0), 'F9 v1.1  B1003', 'VAFB SLC-4E', 'CASSIOPE', 500, 'Polar LEO', 'MDA', 'Success', 'Uncontrolled (ocean)'),\n (datetime.date(2013, 12, 3), datetime.time(22, 41), 'F9 v1.1', 'CCAFS LC-40', 'SES-8', 3170, 'GTO', 'SES', 'Success', 'No attempt'),\n (datetime.date(2014, 1, 6), datetime.time(22, 6), 'F9 v1.1', 'CCAFS LC-40', 'Thaicom 6', 3325, 'GTO', 'Thaicom', 'Success', 'No attempt'),\n (datetime.date(2014, 4, 18), datetime.time(19, 25), 'F9 v1.1', 'CCAFS LC-40', 'SpaceX CRS-3', 2296, 'LEO (ISS)', 'NASA (CRS)', 'Success', 'Controlled (ocean)'),\n (datetime.date(2014, 7, 14), datetime.time(15, 15), 'F9 v1.1', 'CCAFS LC-40', 'OG2 Mission 1  6 Orbcomm-OG2 satellites', 1316, 'LEO', 'Orbcomm', 'Success', 'Controlled (ocean)')]"
                    },
                    "execution_count": 13,
                    "metadata": {},
                    "output_type": "execute_result"
                }
            ],
            "source": "%sql select * from SPACEXTBL LIMIT 10;"
        },
        {
            "cell_type": "markdown",
            "metadata": {},
            "source": "## Tasks\n\nNow write and execute SQL queries to solve the assignment tasks.\n\n### Task 1\n\n##### Display the names of the unique launch sites  in the space mission\n"
        },
        {
            "cell_type": "code",
            "execution_count": 14,
            "metadata": {},
            "outputs": [
                {
                    "name": "stdout",
                    "output_type": "stream",
                    "text": " * ibm_db_sa://qvp11174:***@0c77d6f2-5da9-48a9-81f8-86b520b87518.bs2io90l08kqb1od8lcg.databases.appdomain.cloud:31198/bludb\nDone.\n"
                },
                {
                    "data": {
                        "text/html": "<table>\n    <tr>\n        <th>launch_site</th>\n    </tr>\n    <tr>\n        <td>CCAFS LC-40</td>\n    </tr>\n    <tr>\n        <td>CCAFS SLC-40</td>\n    </tr>\n    <tr>\n        <td>CCAFSSLC-40</td>\n    </tr>\n    <tr>\n        <td>KSC LC-39A</td>\n    </tr>\n    <tr>\n        <td>VAFB SLC-4E</td>\n    </tr>\n</table>",
                        "text/plain": "[('CCAFS LC-40',),\n ('CCAFS SLC-40',),\n ('CCAFSSLC-40',),\n ('KSC LC-39A',),\n ('VAFB SLC-4E',)]"
                    },
                    "execution_count": 14,
                    "metadata": {},
                    "output_type": "execute_result"
                }
            ],
            "source": "%sql SELECT DISTINCT launch_site from SPACEXTBL;"
        },
        {
            "cell_type": "markdown",
            "metadata": {},
            "source": "### Task 2\n\n##### Display 5 records where launch sites begin with the string 'CCA'\n"
        },
        {
            "cell_type": "code",
            "execution_count": 15,
            "metadata": {},
            "outputs": [
                {
                    "name": "stdout",
                    "output_type": "stream",
                    "text": " * ibm_db_sa://qvp11174:***@0c77d6f2-5da9-48a9-81f8-86b520b87518.bs2io90l08kqb1od8lcg.databases.appdomain.cloud:31198/bludb\nDone.\n"
                },
                {
                    "data": {
                        "text/html": "<table>\n    <tr>\n        <th>launch_site</th>\n        <th>number_of_launches</th>\n    </tr>\n    <tr>\n        <td>CCAFS LC-40</td>\n        <td>26</td>\n    </tr>\n    <tr>\n        <td>CCAFS SLC-40</td>\n        <td>33</td>\n    </tr>\n    <tr>\n        <td>CCAFSSLC-40</td>\n        <td>1</td>\n    </tr>\n</table>",
                        "text/plain": "[('CCAFS LC-40', 26), ('CCAFS SLC-40', 33), ('CCAFSSLC-40', 1)]"
                    },
                    "execution_count": 15,
                    "metadata": {},
                    "output_type": "execute_result"
                }
            ],
            "source": "%sql SELECT launch_site, COUNT(launch_site) AS number_of_launches from SPACEXTBL where launch_site LIKE 'CCA%'  GROUP BY launch_site;"
        },
        {
            "cell_type": "code",
            "execution_count": 16,
            "metadata": {},
            "outputs": [],
            "source": "#%sql SELECT customer, SUM(payload_mass__kg_) AS total_payload from SPACEXTBL GROUP BY customer order by SUM(payload_mass__kg_) DESC LIMIT 5;"
        },
        {
            "cell_type": "code",
            "execution_count": 20,
            "metadata": {},
            "outputs": [],
            "source": "#%sql select * from SPACEXTBL WHERE customer='NASA (CRS)' ;"
        },
        {
            "cell_type": "markdown",
            "metadata": {},
            "source": "### Task 3\n\n##### Display the total payload mass carried by boosters launched by NASA (CRS)\n"
        },
        {
            "cell_type": "code",
            "execution_count": 21,
            "metadata": {},
            "outputs": [
                {
                    "name": "stdout",
                    "output_type": "stream",
                    "text": " * ibm_db_sa://qvp11174:***@0c77d6f2-5da9-48a9-81f8-86b520b87518.bs2io90l08kqb1od8lcg.databases.appdomain.cloud:31198/bludb\nDone.\n"
                },
                {
                    "data": {
                        "text/html": "<table>\n    <tr>\n        <th>customer</th>\n        <th>total_payload</th>\n    </tr>\n    <tr>\n        <td>NASA (CRS)</td>\n        <td>45596</td>\n    </tr>\n</table>",
                        "text/plain": "[('NASA (CRS)', 45596)]"
                    },
                    "execution_count": 21,
                    "metadata": {},
                    "output_type": "execute_result"
                }
            ],
            "source": "%sql SELECT customer, SUM(payload_mass__kg_) AS total_payload from SPACEXTBL GROUP BY customer HAVING customer='NASA (CRS)';"
        },
        {
            "cell_type": "markdown",
            "metadata": {},
            "source": "### Task 4\n\n##### Display average payload mass carried by booster version F9 v1.1\n"
        },
        {
            "cell_type": "code",
            "execution_count": 22,
            "metadata": {},
            "outputs": [
                {
                    "name": "stdout",
                    "output_type": "stream",
                    "text": " * ibm_db_sa://qvp11174:***@0c77d6f2-5da9-48a9-81f8-86b520b87518.bs2io90l08kqb1od8lcg.databases.appdomain.cloud:31198/bludb\nDone.\n"
                },
                {
                    "data": {
                        "text/html": "<table>\n    <tr>\n        <th>booster_version</th>\n        <th>average_payload</th>\n    </tr>\n    <tr>\n        <td>F9 v1.1</td>\n        <td>2928</td>\n    </tr>\n</table>",
                        "text/plain": "[('F9 v1.1', 2928)]"
                    },
                    "execution_count": 22,
                    "metadata": {},
                    "output_type": "execute_result"
                }
            ],
            "source": "%sql SELECT booster_version, AVG(payload_mass__kg_) AS average_payload from SPACEXTBL GROUP BY booster_version HAVING booster_version='F9 v1.1' ;"
        },
        {
            "cell_type": "markdown",
            "metadata": {},
            "source": "### Task 5\n\n##### List the date when the first succesful landing outcome in ground pad was acheived.\n\n*Hint:Use min function*\n"
        },
        {
            "cell_type": "code",
            "execution_count": 23,
            "metadata": {},
            "outputs": [
                {
                    "name": "stdout",
                    "output_type": "stream",
                    "text": " * ibm_db_sa://qvp11174:***@0c77d6f2-5da9-48a9-81f8-86b520b87518.bs2io90l08kqb1od8lcg.databases.appdomain.cloud:31198/bludb\nDone.\n"
                },
                {
                    "data": {
                        "text/html": "<table>\n    <tr>\n        <th>first_date</th>\n        <th>landing__outcome</th>\n    </tr>\n    <tr>\n        <td>2010-06-04</td>\n        <td>Failure (parachute)</td>\n    </tr>\n    <tr>\n        <td>2012-05-22</td>\n        <td>No attempt</td>\n    </tr>\n    <tr>\n        <td>2013-09-29</td>\n        <td>Uncontrolled (ocean)</td>\n    </tr>\n    <tr>\n        <td>2014-04-18</td>\n        <td>Controlled (ocean)</td>\n    </tr>\n    <tr>\n        <td>2015-01-10</td>\n        <td>Failure (drone ship)</td>\n    </tr>\n    <tr>\n        <td>2015-06-28</td>\n        <td>Precluded (drone ship)</td>\n    </tr>\n    <tr>\n        <td>2015-12-22</td>\n        <td>Success (ground pad)</td>\n    </tr>\n    <tr>\n        <td>2016-04-08</td>\n        <td>Success (drone ship)</td>\n    </tr>\n    <tr>\n        <td>2018-07-22</td>\n        <td>Success</td>\n    </tr>\n    <tr>\n        <td>2018-12-05</td>\n        <td>Failure</td>\n    </tr>\n</table>",
                        "text/plain": "[(datetime.date(2010, 6, 4), 'Failure (parachute)'),\n (datetime.date(2012, 5, 22), 'No attempt'),\n (datetime.date(2013, 9, 29), 'Uncontrolled (ocean)'),\n (datetime.date(2014, 4, 18), 'Controlled (ocean)'),\n (datetime.date(2015, 1, 10), 'Failure (drone ship)'),\n (datetime.date(2015, 6, 28), 'Precluded (drone ship)'),\n (datetime.date(2015, 12, 22), 'Success (ground pad)'),\n (datetime.date(2016, 4, 8), 'Success (drone ship)'),\n (datetime.date(2018, 7, 22), 'Success'),\n (datetime.date(2018, 12, 5), 'Failure')]"
                    },
                    "execution_count": 23,
                    "metadata": {},
                    "output_type": "execute_result"
                }
            ],
            "source": "%sql SELECT MIN(DATE) AS first_date, landing__outcome from SPACEXTBL GROUP BY landing__outcome order by first_date;"
        },
        {
            "cell_type": "markdown",
            "metadata": {},
            "source": "### Task 6\n\n##### List the names of the boosters which have success in drone ship and have payload mass greater than 4000 but less than 6000\n"
        },
        {
            "cell_type": "code",
            "execution_count": 24,
            "metadata": {},
            "outputs": [
                {
                    "name": "stdout",
                    "output_type": "stream",
                    "text": " * ibm_db_sa://qvp11174:***@0c77d6f2-5da9-48a9-81f8-86b520b87518.bs2io90l08kqb1od8lcg.databases.appdomain.cloud:31198/bludb\nDone.\n"
                },
                {
                    "data": {
                        "text/html": "<table>\n    <tr>\n        <th>DATE</th>\n        <th>booster_version</th>\n        <th>landing__outcome</th>\n        <th>payload_mass__kg_</th>\n    </tr>\n    <tr>\n        <td>2016-05-06</td>\n        <td>F9 FT B1022</td>\n        <td>Success (drone ship)</td>\n        <td>4696</td>\n    </tr>\n    <tr>\n        <td>2016-08-14</td>\n        <td>F9 FT B1026</td>\n        <td>Success (drone ship)</td>\n        <td>4600</td>\n    </tr>\n    <tr>\n        <td>2017-03-30</td>\n        <td>F9 FT  B1021.2</td>\n        <td>Success (drone ship)</td>\n        <td>5300</td>\n    </tr>\n    <tr>\n        <td>2017-10-11</td>\n        <td>F9 FT  B1031.2</td>\n        <td>Success (drone ship)</td>\n        <td>5200</td>\n    </tr>\n</table>",
                        "text/plain": "[(datetime.date(2016, 5, 6), 'F9 FT B1022', 'Success (drone ship)', 4696),\n (datetime.date(2016, 8, 14), 'F9 FT B1026', 'Success (drone ship)', 4600),\n (datetime.date(2017, 3, 30), 'F9 FT  B1021.2', 'Success (drone ship)', 5300),\n (datetime.date(2017, 10, 11), 'F9 FT  B1031.2', 'Success (drone ship)', 5200)]"
                    },
                    "execution_count": 24,
                    "metadata": {},
                    "output_type": "execute_result"
                }
            ],
            "source": "%sql SELECT DATE, booster_version, landing__outcome, payload_mass__kg_ \\\nfrom SPACEXTBL \\\nWHERE landing__outcome='Success (drone ship)' AND payload_mass__kg_ BETWEEN 4000 AND 6000 ;"
        },
        {
            "cell_type": "markdown",
            "metadata": {},
            "source": "### Task 7\n\n##### List the total number of successful and failure mission outcomes\n"
        },
        {
            "cell_type": "code",
            "execution_count": 25,
            "metadata": {},
            "outputs": [
                {
                    "name": "stdout",
                    "output_type": "stream",
                    "text": " * ibm_db_sa://qvp11174:***@0c77d6f2-5da9-48a9-81f8-86b520b87518.bs2io90l08kqb1od8lcg.databases.appdomain.cloud:31198/bludb\nDone.\n"
                },
                {
                    "data": {
                        "text/html": "<table>\n    <tr>\n        <th>mission_outcome</th>\n        <th>number_outcomes</th>\n    </tr>\n    <tr>\n        <td>Failure (in flight)</td>\n        <td>1</td>\n    </tr>\n    <tr>\n        <td>Success</td>\n        <td>99</td>\n    </tr>\n    <tr>\n        <td>Success (payload status unclear)</td>\n        <td>1</td>\n    </tr>\n</table>",
                        "text/plain": "[('Failure (in flight)', 1),\n ('Success', 99),\n ('Success (payload status unclear)', 1)]"
                    },
                    "execution_count": 25,
                    "metadata": {},
                    "output_type": "execute_result"
                }
            ],
            "source": "%sql SELECT mission_outcome, COUNT(mission_outcome) AS number_outcomes from SPACEXTBL GROUP BY mission_outcome;"
        },
        {
            "cell_type": "markdown",
            "metadata": {},
            "source": "### Task 8\n\n##### List the   names of the booster_versions which have carried the maximum payload mass. Use a subquery\n"
        },
        {
            "cell_type": "code",
            "execution_count": 26,
            "metadata": {},
            "outputs": [
                {
                    "name": "stdout",
                    "output_type": "stream",
                    "text": " * ibm_db_sa://qvp11174:***@0c77d6f2-5da9-48a9-81f8-86b520b87518.bs2io90l08kqb1od8lcg.databases.appdomain.cloud:31198/bludb\nDone.\n"
                },
                {
                    "data": {
                        "text/html": "<table>\n    <tr>\n        <th>booster_version</th>\n        <th>payload_mass__kg_</th>\n    </tr>\n    <tr>\n        <td>F9 B5 B1048.4</td>\n        <td>15600</td>\n    </tr>\n    <tr>\n        <td>F9 B5 B1048.5</td>\n        <td>15600</td>\n    </tr>\n    <tr>\n        <td>F9 B5 B1049.4</td>\n        <td>15600</td>\n    </tr>\n    <tr>\n        <td>F9 B5 B1049.5</td>\n        <td>15600</td>\n    </tr>\n    <tr>\n        <td>F9 B5 B1049.7</td>\n        <td>15600</td>\n    </tr>\n    <tr>\n        <td>F9 B5 B1051.3</td>\n        <td>15600</td>\n    </tr>\n    <tr>\n        <td>F9 B5 B1051.4</td>\n        <td>15600</td>\n    </tr>\n    <tr>\n        <td>F9 B5 B1051.6</td>\n        <td>15600</td>\n    </tr>\n    <tr>\n        <td>F9 B5 B1056.4</td>\n        <td>15600</td>\n    </tr>\n    <tr>\n        <td>F9 B5 B1058.3</td>\n        <td>15600</td>\n    </tr>\n    <tr>\n        <td>F9 B5 B1060.2</td>\n        <td>15600</td>\n    </tr>\n    <tr>\n        <td>F9 B5 B1060.3</td>\n        <td>15600</td>\n    </tr>\n</table>",
                        "text/plain": "[('F9 B5 B1048.4', 15600),\n ('F9 B5 B1048.5', 15600),\n ('F9 B5 B1049.4', 15600),\n ('F9 B5 B1049.5', 15600),\n ('F9 B5 B1049.7', 15600),\n ('F9 B5 B1051.3', 15600),\n ('F9 B5 B1051.4', 15600),\n ('F9 B5 B1051.6', 15600),\n ('F9 B5 B1056.4', 15600),\n ('F9 B5 B1058.3', 15600),\n ('F9 B5 B1060.2', 15600),\n ('F9 B5 B1060.3', 15600)]"
                    },
                    "execution_count": 26,
                    "metadata": {},
                    "output_type": "execute_result"
                }
            ],
            "source": "%sql SELECT booster_version, payload_mass__kg_ from SPACEXTBL \\\nWHERE payload_mass__kg_=(SELECT MAX(payload_mass__kg_) FROM SPACEXTBL )\\\nORDER BY booster_version ;"
        },
        {
            "cell_type": "markdown",
            "metadata": {},
            "source": "### Task 9\n\n##### List the records which will display the month names, failure landing_outcomes in drone ship ,booster versions, launch_site for the months in year 2015\n"
        },
        {
            "cell_type": "code",
            "execution_count": 27,
            "metadata": {},
            "outputs": [
                {
                    "name": "stdout",
                    "output_type": "stream",
                    "text": " * ibm_db_sa://qvp11174:***@0c77d6f2-5da9-48a9-81f8-86b520b87518.bs2io90l08kqb1od8lcg.databases.appdomain.cloud:31198/bludb\nDone.\n"
                },
                {
                    "data": {
                        "text/html": "<table>\n    <tr>\n        <th>DATE</th>\n        <th>MONTH</th>\n        <th>landing__outcome</th>\n        <th>booster_version</th>\n        <th>launch_site</th>\n    </tr>\n    <tr>\n        <td>2015-01-10</td>\n        <td>January</td>\n        <td>Failure (drone ship)</td>\n        <td>F9 v1.1 B1012</td>\n        <td>CCAFS LC-40</td>\n    </tr>\n    <tr>\n        <td>2015-04-14</td>\n        <td>April</td>\n        <td>Failure (drone ship)</td>\n        <td>F9 v1.1 B1015</td>\n        <td>CCAFS LC-40</td>\n    </tr>\n</table>",
                        "text/plain": "[(datetime.date(2015, 1, 10), 'January', 'Failure (drone ship)', 'F9 v1.1 B1012', 'CCAFS LC-40'),\n (datetime.date(2015, 4, 14), 'April', 'Failure (drone ship)', 'F9 v1.1 B1015', 'CCAFS LC-40')]"
                    },
                    "execution_count": 27,
                    "metadata": {},
                    "output_type": "execute_result"
                }
            ],
            "source": "%sql SELECT DATE, MONTHNAME(DATE) AS month, landing__outcome, booster_version, launch_site from SPACEXTBL \\\nWHERE YEAR(DATE) = 2015 AND landing__outcome='Failure (drone ship)'\n"
        },
        {
            "cell_type": "markdown",
            "metadata": {
                "tags": []
            },
            "source": "### Task 10\n\n##### Rank the  count of  successful landing_outcomes between the date 2010-06-04 and 2017-03-20 in descending order.\n"
        },
        {
            "cell_type": "code",
            "execution_count": 28,
            "metadata": {},
            "outputs": [
                {
                    "name": "stdout",
                    "output_type": "stream",
                    "text": " * ibm_db_sa://qvp11174:***@0c77d6f2-5da9-48a9-81f8-86b520b87518.bs2io90l08kqb1od8lcg.databases.appdomain.cloud:31198/bludb\nDone.\n"
                },
                {
                    "data": {
                        "text/html": "<table>\n    <tr>\n        <th>landing__outcome</th>\n        <th>count_of_success</th>\n    </tr>\n    <tr>\n        <td>Success (drone ship)</td>\n        <td>14</td>\n    </tr>\n    <tr>\n        <td>Success (ground pad)</td>\n        <td>9</td>\n    </tr>\n</table>",
                        "text/plain": "[('Success (drone ship)', 14), ('Success (ground pad)', 9)]"
                    },
                    "execution_count": 28,
                    "metadata": {},
                    "output_type": "execute_result"
                }
            ],
            "source": "%sql SELECT landing__outcome, COUNT(landing__outcome) AS count_of_success from SPACEXTBL \\\nWHERE DATE BETWEEN '2010-06-04' AND '2017-03-20' AND \\\nlanding__outcome='Success' OR landing__outcome='Success (drone ship)' OR landing__outcome='Success (ground pad)' \\\nGROUP BY landing__outcome"
        },
        {
            "cell_type": "markdown",
            "metadata": {},
            "source": "### Reference Links\n\n*   <a href =\"https://cf-courses-data.s3.us.cloud-object-storage.appdomain.cloud/IBMDeveloperSkillsNetwork-DB0201EN-SkillsNetwork/labs/Labs_Coursera_V5/labs/Lab%20-%20String%20Patterns%20-%20Sorting%20-%20Grouping/instructional-labs.md.html?utm_medium=Exinfluencer&utm_source=Exinfluencer&utm_content=000026UJ&utm_term=10006555&utm_id=NA-SkillsNetwork-Channel-SkillsNetworkCoursesIBMDS0321ENSkillsNetwork26802033-2021-01-01&origin=www.coursera.org\">Hands-on Lab : String Patterns, Sorting and Grouping</a>\n\n*   <a  href=\"https://cf-courses-data.s3.us.cloud-object-storage.appdomain.cloud/IBMDeveloperSkillsNetwork-DB0201EN-SkillsNetwork/labs/Labs_Coursera_V5/labs/Lab%20-%20Built-in%20functions%20/Hands-on_Lab__Built-in_Functions.md.html?utm_medium=Exinfluencer&utm_source=Exinfluencer&utm_content=000026UJ&utm_term=10006555&utm_id=NA-SkillsNetwork-Channel-SkillsNetworkCoursesIBMDS0321ENSkillsNetwork26802033-2021-01-01&origin=www.coursera.org\">Hands-on Lab: Built-in functions</a>\n\n*   <a  href=\"https://cf-courses-data.s3.us.cloud-object-storage.appdomain.cloud/IBMDeveloperSkillsNetwork-DB0201EN-SkillsNetwork/labs/Labs_Coursera_V5/labs/Lab%20-%20Sub-queries%20and%20Nested%20SELECTs%20/instructional-labs.md.html?utm_medium=Exinfluencer&utm_source=Exinfluencer&utm_content=000026UJ&utm_term=10006555&utm_id=NA-SkillsNetwork-Channel-SkillsNetworkCoursesIBMDS0321ENSkillsNetwork26802033-2021-01-01&origin=www.coursera.org\">Hands-on Lab : Sub-queries and Nested SELECT Statements</a>\n\n*   <a href=\"https://cf-courses-data.s3.us.cloud-object-storage.appdomain.cloud/IBMDeveloperSkillsNetwork-DB0201EN-SkillsNetwork/labs/Module%205/DB0201EN-Week3-1-3-SQLmagic.ipynb?utm_medium=Exinfluencer&utm_source=Exinfluencer&utm_content=000026UJ&utm_term=10006555&utm_id=NA-SkillsNetwork-Channel-SkillsNetworkCoursesIBMDS0321ENSkillsNetwork26802033-2021-01-01\">Hands-on Tutorial: Accessing Databases with SQL magic</a>\n\n*   <a href= \"https://cf-courses-data.s3.us.cloud-object-storage.appdomain.cloud/IBMDeveloperSkillsNetwork-DB0201EN-SkillsNetwork/labs/Module%205/DB0201EN-Week3-1-4-Analyzing.ipynb?utm_medium=Exinfluencer&utm_source=Exinfluencer&utm_content=000026UJ&utm_term=10006555&utm_id=NA-SkillsNetwork-Channel-SkillsNetworkCoursesIBMDS0321ENSkillsNetwork26802033-2021-01-01\">Hands-on Lab: Analyzing a real World Data Set</a>\n"
        },
        {
            "cell_type": "markdown",
            "metadata": {},
            "source": "## Author(s)\n\n<h4> Lakshmi Holla </h4>\n"
        },
        {
            "cell_type": "markdown",
            "metadata": {},
            "source": "## Other Contributors\n\n<h4> Rav Ahuja </h4>\n"
        },
        {
            "cell_type": "markdown",
            "metadata": {},
            "source": "## Change log\n\n| Date | Version | Changed by | Change Description |\n|------|--------|--------|---------|\n| 2021-07-09 | 0.2 |Lakshmi Holla | Changes made in magic sql|\n| 2021-05-20 | 0.1 |Lakshmi Holla | Created Initial Version |\n"
        },
        {
            "cell_type": "markdown",
            "metadata": {},
            "source": "## <h3 align=\"center\"> \u00a9 IBM Corporation 2021. All rights reserved. <h3/>\n"
        }
    ],
    "metadata": {
        "kernelspec": {
            "display_name": "Python 3.8",
            "language": "python",
            "name": "python3"
        },
        "language_info": {
            "codemirror_mode": {
                "name": "ipython",
                "version": 3
            },
            "file_extension": ".py",
            "mimetype": "text/x-python",
            "name": "python",
            "nbconvert_exporter": "python",
            "pygments_lexer": "ipython3",
            "version": "3.8.10"
        }
    },
    "nbformat": 4,
    "nbformat_minor": 4
}